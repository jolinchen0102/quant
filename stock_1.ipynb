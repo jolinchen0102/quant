{
 "cells": [
  {
   "cell_type": "code",
   "execution_count": 207,
   "metadata": {},
   "outputs": [
    {
     "name": "stdout",
     "output_type": "stream",
     "text": [
      "(45590, 34)\n",
      "Number of features:  32\n",
      "Number of entries:  45590\n"
     ]
    },
    {
     "data": {
      "text/html": [
       "<div>\n",
       "<style scoped>\n",
       "    .dataframe tbody tr th:only-of-type {\n",
       "        vertical-align: middle;\n",
       "    }\n",
       "\n",
       "    .dataframe tbody tr th {\n",
       "        vertical-align: top;\n",
       "    }\n",
       "\n",
       "    .dataframe thead th {\n",
       "        text-align: right;\n",
       "    }\n",
       "</style>\n",
       "<table border=\"1\" class=\"dataframe\">\n",
       "  <thead>\n",
       "    <tr style=\"text-align: right;\">\n",
       "      <th></th>\n",
       "      <th>PriceFeature_1</th>\n",
       "      <th>PriceFeature_2</th>\n",
       "      <th>PriceFeature_3</th>\n",
       "      <th>PriceFeature_4</th>\n",
       "      <th>PriceFeature_5</th>\n",
       "      <th>PriceFeature_6</th>\n",
       "      <th>PriceFeature_7</th>\n",
       "      <th>PriceFeature_8</th>\n",
       "      <th>VolumeFeature_1</th>\n",
       "      <th>VolumeFeature_2</th>\n",
       "      <th>...</th>\n",
       "      <th>TransactionFeature_1</th>\n",
       "      <th>OrderFeature_1</th>\n",
       "      <th>OrderFeature_2</th>\n",
       "      <th>OrderFeature_3</th>\n",
       "      <th>OrderFeature_4</th>\n",
       "      <th>VolumeFeature_10</th>\n",
       "      <th>VolumeFeature_11</th>\n",
       "      <th>VolumeFeature_12</th>\n",
       "      <th>VolumeFeature_13</th>\n",
       "      <th>TargetFeature</th>\n",
       "    </tr>\n",
       "  </thead>\n",
       "  <tbody>\n",
       "    <tr>\n",
       "      <th>0</th>\n",
       "      <td>5.87</td>\n",
       "      <td>5.88</td>\n",
       "      <td>5.88</td>\n",
       "      <td>5.88</td>\n",
       "      <td>-0.006677</td>\n",
       "      <td>0.008503</td>\n",
       "      <td>False</td>\n",
       "      <td>False</td>\n",
       "      <td>5800.0</td>\n",
       "      <td>False</td>\n",
       "      <td>...</td>\n",
       "      <td>True</td>\n",
       "      <td>10000.0</td>\n",
       "      <td>1.000000</td>\n",
       "      <td>1.000000</td>\n",
       "      <td>0.495798</td>\n",
       "      <td>9100.0</td>\n",
       "      <td>12200.0</td>\n",
       "      <td>14900.0</td>\n",
       "      <td>0.412518</td>\n",
       "      <td>0</td>\n",
       "    </tr>\n",
       "    <tr>\n",
       "      <th>1</th>\n",
       "      <td>5.86</td>\n",
       "      <td>5.88</td>\n",
       "      <td>5.88</td>\n",
       "      <td>5.88</td>\n",
       "      <td>-0.006458</td>\n",
       "      <td>0.006803</td>\n",
       "      <td>False</td>\n",
       "      <td>False</td>\n",
       "      <td>4900.0</td>\n",
       "      <td>False</td>\n",
       "      <td>...</td>\n",
       "      <td>True</td>\n",
       "      <td>6200.0</td>\n",
       "      <td>0.549180</td>\n",
       "      <td>0.500000</td>\n",
       "      <td>0.464524</td>\n",
       "      <td>4900.0</td>\n",
       "      <td>5100.0</td>\n",
       "      <td>5600.0</td>\n",
       "      <td>0.173390</td>\n",
       "      <td>0</td>\n",
       "    </tr>\n",
       "    <tr>\n",
       "      <th>2</th>\n",
       "      <td>5.87</td>\n",
       "      <td>5.88</td>\n",
       "      <td>5.88</td>\n",
       "      <td>5.88</td>\n",
       "      <td>-0.006434</td>\n",
       "      <td>0.008503</td>\n",
       "      <td>False</td>\n",
       "      <td>False</td>\n",
       "      <td>4500.0</td>\n",
       "      <td>False</td>\n",
       "      <td>...</td>\n",
       "      <td>True</td>\n",
       "      <td>13900.0</td>\n",
       "      <td>0.944444</td>\n",
       "      <td>0.750000</td>\n",
       "      <td>0.859788</td>\n",
       "      <td>8200.0</td>\n",
       "      <td>8200.0</td>\n",
       "      <td>8800.0</td>\n",
       "      <td>0.086252</td>\n",
       "      <td>0</td>\n",
       "    </tr>\n",
       "    <tr>\n",
       "      <th>3</th>\n",
       "      <td>5.87</td>\n",
       "      <td>5.88</td>\n",
       "      <td>5.88</td>\n",
       "      <td>5.88</td>\n",
       "      <td>-0.006320</td>\n",
       "      <td>0.008503</td>\n",
       "      <td>False</td>\n",
       "      <td>False</td>\n",
       "      <td>22000.0</td>\n",
       "      <td>False</td>\n",
       "      <td>...</td>\n",
       "      <td>True</td>\n",
       "      <td>12300.0</td>\n",
       "      <td>0.347682</td>\n",
       "      <td>0.571429</td>\n",
       "      <td>0.000000</td>\n",
       "      <td>11300.0</td>\n",
       "      <td>11400.0</td>\n",
       "      <td>19600.0</td>\n",
       "      <td>0.310781</td>\n",
       "      <td>0</td>\n",
       "    </tr>\n",
       "    <tr>\n",
       "      <th>4</th>\n",
       "      <td>5.86</td>\n",
       "      <td>5.88</td>\n",
       "      <td>5.88</td>\n",
       "      <td>5.88</td>\n",
       "      <td>-0.006265</td>\n",
       "      <td>0.006803</td>\n",
       "      <td>False</td>\n",
       "      <td>False</td>\n",
       "      <td>3800.0</td>\n",
       "      <td>False</td>\n",
       "      <td>...</td>\n",
       "      <td>True</td>\n",
       "      <td>10500.0</td>\n",
       "      <td>0.480798</td>\n",
       "      <td>0.666667</td>\n",
       "      <td>0.175016</td>\n",
       "      <td>4200.0</td>\n",
       "      <td>15900.0</td>\n",
       "      <td>19300.0</td>\n",
       "      <td>0.152604</td>\n",
       "      <td>0</td>\n",
       "    </tr>\n",
       "  </tbody>\n",
       "</table>\n",
       "<p>5 rows × 33 columns</p>\n",
       "</div>"
      ],
      "text/plain": [
       "   PriceFeature_1  PriceFeature_2  PriceFeature_3  PriceFeature_4  \\\n",
       "0            5.87            5.88            5.88            5.88   \n",
       "1            5.86            5.88            5.88            5.88   \n",
       "2            5.87            5.88            5.88            5.88   \n",
       "3            5.87            5.88            5.88            5.88   \n",
       "4            5.86            5.88            5.88            5.88   \n",
       "\n",
       "   PriceFeature_5  PriceFeature_6  PriceFeature_7  PriceFeature_8  \\\n",
       "0       -0.006677        0.008503           False           False   \n",
       "1       -0.006458        0.006803           False           False   \n",
       "2       -0.006434        0.008503           False           False   \n",
       "3       -0.006320        0.008503           False           False   \n",
       "4       -0.006265        0.006803           False           False   \n",
       "\n",
       "   VolumeFeature_1  VolumeFeature_2  ...  TransactionFeature_1  \\\n",
       "0           5800.0            False  ...                  True   \n",
       "1           4900.0            False  ...                  True   \n",
       "2           4500.0            False  ...                  True   \n",
       "3          22000.0            False  ...                  True   \n",
       "4           3800.0            False  ...                  True   \n",
       "\n",
       "   OrderFeature_1  OrderFeature_2  OrderFeature_3  OrderFeature_4  \\\n",
       "0         10000.0        1.000000        1.000000        0.495798   \n",
       "1          6200.0        0.549180        0.500000        0.464524   \n",
       "2         13900.0        0.944444        0.750000        0.859788   \n",
       "3         12300.0        0.347682        0.571429        0.000000   \n",
       "4         10500.0        0.480798        0.666667        0.175016   \n",
       "\n",
       "   VolumeFeature_10  VolumeFeature_11  VolumeFeature_12  VolumeFeature_13  \\\n",
       "0            9100.0           12200.0           14900.0          0.412518   \n",
       "1            4900.0            5100.0            5600.0          0.173390   \n",
       "2            8200.0            8200.0            8800.0          0.086252   \n",
       "3           11300.0           11400.0           19600.0          0.310781   \n",
       "4            4200.0           15900.0           19300.0          0.152604   \n",
       "\n",
       "   TargetFeature  \n",
       "0              0  \n",
       "1              0  \n",
       "2              0  \n",
       "3              0  \n",
       "4              0  \n",
       "\n",
       "[5 rows x 33 columns]"
      ]
     },
     "execution_count": 207,
     "metadata": {},
     "output_type": "execute_result"
    }
   ],
   "source": [
    "import pandas as pd\n",
    "import numpy as np\n",
    "import matplotlib.pyplot as plt\n",
    "from math import *\n",
    "import random as rn\n",
    "import tensorflow as tf\n",
    "RANDOM_SEED = 0\n",
    "np.random.seed(RANDOM_SEED)\n",
    "tf.random.set_seed(RANDOM_SEED)\n",
    "rn.seed(RANDOM_SEED)\n",
    "import keras\n",
    "from keras.models import Sequential\n",
    "from keras.layers import Dense, Input, Conv2D, MaxPooling2D, UpSampling2D\n",
    "from keras.optimizers import SGD\n",
    "from keras.layers import LSTM\n",
    "from sklearn.metrics import roc_curve, auc\n",
    "from sklearn.metrics import roc_auc_score\n",
    "from sklearn.metrics import precision_recall_fscore_support\n",
    "from sklearn.ensemble import ExtraTreesClassifier\n",
    "from sklearn.feature_selection import SelectFromModel\n",
    "from sklearn.preprocessing import MinMaxScaler\n",
    "\n",
    "df = pd.read_csv('/Users/jolinchen/quant/Data/Stock_1.csv')\n",
    "print(df.shape)\n",
    "df = df.loc[:, \"PriceFeature_1\":]\n",
    "print( \"Number of features: \", df.shape[1] - 1)\n",
    "print( \"Number of entries: \", df.shape[0])\n",
    "df.head()"
   ]
  },
  {
   "cell_type": "code",
   "execution_count": 208,
   "metadata": {},
   "outputs": [
    {
     "name": "stdout",
     "output_type": "stream",
     "text": [
      "Numbers of null value in bool data:  0\n",
      "datashape after cleaning:  (25879, 33)\n"
     ]
    }
   ],
   "source": [
    "def clean_data(df):\n",
    "    # convert bool type data to float\n",
    "    bool_df = df.select_dtypes(include=['bool']).copy()\n",
    "    print(\"Numbers of null value in bool data: \", bool_df.isnull().sum().sum())\n",
    "    df[list(bool_df.columns)] = df[list(bool_df.columns)].astype(float, copy=False)\n",
    "    # remove missing and inf data\n",
    "    df = df.replace([np.inf, -np.inf], np.nan)\n",
    "    df.dropna(inplace=True)\n",
    "    print(\"datashape after cleaning: \", df.shape)\n",
    "    return df\n",
    "df = clean_data(df)"
   ]
  },
  {
   "cell_type": "code",
   "execution_count": 210,
   "metadata": {},
   "outputs": [
    {
     "name": "stdout",
     "output_type": "stream",
     "text": [
      "feature importance:  [2.98569247e-02 2.81659670e-02 2.70931660e-02 2.67713604e-02\n",
      " 3.36472388e-02 3.58513783e-02 9.53853009e-05 6.02957721e-03\n",
      " 3.18403306e-02 2.67564177e-02 2.79119551e-02 3.58479259e-02\n",
      " 3.79880329e-02 2.79841199e-02 2.76591385e-02 2.86147506e-02\n",
      " 3.52993706e-02 2.29672859e-02 2.23243097e-02 2.37379555e-02\n",
      " 3.27891776e-02 2.71629779e-02 3.20736438e-02 1.38451605e-02\n",
      " 3.03402901e-02 3.98677796e-02 3.34760225e-02 2.77340531e-02\n",
      " 5.65197081e-02 6.86486170e-02 7.63907310e-02 2.47092483e-02]\n",
      "new data shape:  (25879, 14)\n"
     ]
    },
    {
     "data": {
      "text/html": [
       "<div>\n",
       "<style scoped>\n",
       "    .dataframe tbody tr th:only-of-type {\n",
       "        vertical-align: middle;\n",
       "    }\n",
       "\n",
       "    .dataframe tbody tr th {\n",
       "        vertical-align: top;\n",
       "    }\n",
       "\n",
       "    .dataframe thead th {\n",
       "        text-align: right;\n",
       "    }\n",
       "</style>\n",
       "<table border=\"1\" class=\"dataframe\">\n",
       "  <thead>\n",
       "    <tr style=\"text-align: right;\">\n",
       "      <th></th>\n",
       "      <th>PriceFeature_5</th>\n",
       "      <th>PriceFeature_6</th>\n",
       "      <th>VolumeFeature_1</th>\n",
       "      <th>VolumeFeature_4</th>\n",
       "      <th>VolumeFeature_5</th>\n",
       "      <th>TapeFeature_1</th>\n",
       "      <th>TapeFeature_5</th>\n",
       "      <th>VolumeFeature_9</th>\n",
       "      <th>OrderFeature_2</th>\n",
       "      <th>OrderFeature_3</th>\n",
       "      <th>VolumeFeature_10</th>\n",
       "      <th>VolumeFeature_11</th>\n",
       "      <th>VolumeFeature_12</th>\n",
       "      <th>TargetFeature</th>\n",
       "    </tr>\n",
       "  </thead>\n",
       "  <tbody>\n",
       "    <tr>\n",
       "      <th>203</th>\n",
       "      <td>0.005712</td>\n",
       "      <td>0.003448</td>\n",
       "      <td>1100.0</td>\n",
       "      <td>9576.0</td>\n",
       "      <td>2600.00</td>\n",
       "      <td>0.0</td>\n",
       "      <td>0.0</td>\n",
       "      <td>0.0</td>\n",
       "      <td>0.024096</td>\n",
       "      <td>0.4</td>\n",
       "      <td>0.0</td>\n",
       "      <td>0.0</td>\n",
       "      <td>3400.0</td>\n",
       "      <td>0</td>\n",
       "    </tr>\n",
       "    <tr>\n",
       "      <th>204</th>\n",
       "      <td>0.005727</td>\n",
       "      <td>0.005172</td>\n",
       "      <td>400.0</td>\n",
       "      <td>9564.0</td>\n",
       "      <td>2600.00</td>\n",
       "      <td>0.0</td>\n",
       "      <td>0.0</td>\n",
       "      <td>400.0</td>\n",
       "      <td>0.058140</td>\n",
       "      <td>0.4</td>\n",
       "      <td>500.0</td>\n",
       "      <td>500.0</td>\n",
       "      <td>3800.0</td>\n",
       "      <td>0</td>\n",
       "    </tr>\n",
       "    <tr>\n",
       "      <th>206</th>\n",
       "      <td>0.005908</td>\n",
       "      <td>0.005172</td>\n",
       "      <td>500.0</td>\n",
       "      <td>9666.0</td>\n",
       "      <td>2478.65</td>\n",
       "      <td>0.0</td>\n",
       "      <td>0.0</td>\n",
       "      <td>0.0</td>\n",
       "      <td>0.857143</td>\n",
       "      <td>0.8</td>\n",
       "      <td>0.0</td>\n",
       "      <td>300.0</td>\n",
       "      <td>600.0</td>\n",
       "      <td>0</td>\n",
       "    </tr>\n",
       "    <tr>\n",
       "      <th>207</th>\n",
       "      <td>0.005914</td>\n",
       "      <td>0.006897</td>\n",
       "      <td>12600.0</td>\n",
       "      <td>9864.0</td>\n",
       "      <td>2568.40</td>\n",
       "      <td>0.0</td>\n",
       "      <td>0.0</td>\n",
       "      <td>12600.0</td>\n",
       "      <td>0.981818</td>\n",
       "      <td>0.8</td>\n",
       "      <td>12600.0</td>\n",
       "      <td>12600.0</td>\n",
       "      <td>13200.0</td>\n",
       "      <td>0</td>\n",
       "    </tr>\n",
       "    <tr>\n",
       "      <th>208</th>\n",
       "      <td>0.006043</td>\n",
       "      <td>0.006897</td>\n",
       "      <td>13100.0</td>\n",
       "      <td>10051.0</td>\n",
       "      <td>2588.15</td>\n",
       "      <td>0.0</td>\n",
       "      <td>0.0</td>\n",
       "      <td>0.0</td>\n",
       "      <td>0.000000</td>\n",
       "      <td>0.0</td>\n",
       "      <td>0.0</td>\n",
       "      <td>0.0</td>\n",
       "      <td>0.0</td>\n",
       "      <td>0</td>\n",
       "    </tr>\n",
       "  </tbody>\n",
       "</table>\n",
       "</div>"
      ],
      "text/plain": [
       "     PriceFeature_5  PriceFeature_6  VolumeFeature_1  VolumeFeature_4  \\\n",
       "203        0.005712        0.003448           1100.0           9576.0   \n",
       "204        0.005727        0.005172            400.0           9564.0   \n",
       "206        0.005908        0.005172            500.0           9666.0   \n",
       "207        0.005914        0.006897          12600.0           9864.0   \n",
       "208        0.006043        0.006897          13100.0          10051.0   \n",
       "\n",
       "     VolumeFeature_5  TapeFeature_1  TapeFeature_5  VolumeFeature_9  \\\n",
       "203          2600.00            0.0            0.0              0.0   \n",
       "204          2600.00            0.0            0.0            400.0   \n",
       "206          2478.65            0.0            0.0              0.0   \n",
       "207          2568.40            0.0            0.0          12600.0   \n",
       "208          2588.15            0.0            0.0              0.0   \n",
       "\n",
       "     OrderFeature_2  OrderFeature_3  VolumeFeature_10  VolumeFeature_11  \\\n",
       "203        0.024096             0.4               0.0               0.0   \n",
       "204        0.058140             0.4             500.0             500.0   \n",
       "206        0.857143             0.8               0.0             300.0   \n",
       "207        0.981818             0.8           12600.0           12600.0   \n",
       "208        0.000000             0.0               0.0               0.0   \n",
       "\n",
       "     VolumeFeature_12  TargetFeature  \n",
       "203            3400.0              0  \n",
       "204            3800.0              0  \n",
       "206             600.0              0  \n",
       "207           13200.0              0  \n",
       "208               0.0              0  "
      ]
     },
     "execution_count": 210,
     "metadata": {},
     "output_type": "execute_result"
    }
   ],
   "source": [
    "def feature_selection(df):\n",
    "    X, y = df.drop(\"TargetFeature\",1), df[\"TargetFeature\"]\n",
    "    clf = ExtraTreesClassifier(n_estimators=100)\n",
    "    clf = clf.fit(X, y)\n",
    "    print(\"feature importance: \", clf.feature_importances_  )\n",
    "    model = SelectFromModel(clf, prefit=True)\n",
    "    X_new = model.transform(X)\n",
    "    cols, names = list(), list()\n",
    "    for i in df.columns:\n",
    "        for j in range(X_new.shape[1]):\n",
    "            if (df[i].values == X_new[:, j]).all():\n",
    "                cols.append(df[i])\n",
    "                names.append(i)\n",
    "    cols.append(y)\n",
    "    names.append(\"TargetFeature\")\n",
    "    agg = pd.concat(cols, axis=1)\n",
    "    agg.columns = names\n",
    "    print(\"new data shape: \", agg.shape)\n",
    "    return agg\n",
    "df1 = feature_selection(df)\n",
    "df1.head()"
   ]
  },
  {
   "cell_type": "code",
   "execution_count": 211,
   "metadata": {},
   "outputs": [],
   "source": [
    "# convert time series to supervised learning\n",
    "def series_to_supervised(data, n_in=1, n_out=1, dropnan=True):\n",
    "    n_vars = 1 if type(data) is list else data.shape[1]\n",
    "    df = pd.DataFrame(data)\n",
    "    cols, names = list(), list()\n",
    "    # input sequence (t-n, ... t-1)\n",
    "    for i in range(n_in, 0, -1):\n",
    "        cols.append(df.shift(i))\n",
    "        names += [('var%d(t-%d)' % (j+1, i)) for j in range(n_vars)]\n",
    "    # forecast sequence (t, t+1, ... t+n)\n",
    "    for i in range(0, n_out):\n",
    "        cols.append(df.shift(-i))\n",
    "        if i == 0:\n",
    "            names += [('var%d(t)' % (j+1)) for j in range(n_vars)]\n",
    "        else:\n",
    "            names += [('var%d(t+%d)' % (j+1, i)) for j in range(n_vars)]\n",
    "    # put it all together\n",
    "    agg = pd.concat(cols, axis=1)\n",
    "    agg.columns = names\n",
    "    # drop rows with NaN values\n",
    "    if dropnan:\n",
    "        agg.dropna(inplace=True) \n",
    "    agg.drop(agg.columns[range(data.shape[1],2*data.shape[1]-1)], axis=1, inplace=True)\n",
    "    return agg\n",
    "def scale(df):\n",
    "    values = df.values\n",
    "    values = values.astype('float32')\n",
    "    scaler = MinMaxScaler(feature_range=(0, 1))\n",
    "    scaled = scaler.fit_transform(values)\n",
    "    return scaled"
   ]
  },
  {
   "cell_type": "markdown",
   "metadata": {},
   "source": [
    "## Work on full dataset"
   ]
  },
  {
   "cell_type": "markdown",
   "metadata": {},
   "source": [
    "Didn't perform feature select as it is not necessary for neural network"
   ]
  },
  {
   "cell_type": "code",
   "execution_count": 253,
   "metadata": {},
   "outputs": [
    {
     "name": "stdout",
     "output_type": "stream",
     "text": [
      "   var1(t-1)  var2(t-1)  var3(t-1)  var4(t-1)  var5(t-1)  var6(t-1)  \\\n",
      "1   0.049746   0.048159   0.049236   0.048159   0.521784   0.060953   \n",
      "2   0.050311   0.048159   0.049236   0.048159   0.521862   0.091430   \n",
      "3   0.049746   0.048159   0.049236   0.048159   0.522789   0.091430   \n",
      "4   0.050311   0.048159   0.049236   0.048159   0.522823   0.121907   \n",
      "5   0.050311   0.048159   0.049236   0.048159   0.523486   0.121907   \n",
      "\n",
      "   var7(t-1)  var8(t-1)  var9(t-1)  var10(t-1)  ...  var25(t-1)  var26(t-1)  \\\n",
      "1        0.0        0.0   0.000272         0.0  ...    0.000000    0.024096   \n",
      "2        0.0        0.0   0.000060         0.0  ...    0.000044    0.058140   \n",
      "3        0.0        0.0   0.000091         0.0  ...    0.000000    0.857143   \n",
      "4        0.0        0.0   0.003742         0.0  ...    0.002844    0.981818   \n",
      "5        0.0        0.0   0.003893         0.0  ...    0.000000    0.000000   \n",
      "\n",
      "   var27(t-1)  var28(t-1)  var29(t-1)  var30(t-1)  var31(t-1)  var32(t-1)  \\\n",
      "1         0.4    0.000000    0.000000    0.000000    0.000906    0.000000   \n",
      "2         0.4    0.034043    0.000135    0.000134    0.001012    0.000089   \n",
      "3         0.8    0.000000    0.000000    0.000080    0.000160    0.000000   \n",
      "4         0.8    0.124675    0.003409    0.003374    0.003517    0.002672   \n",
      "5         0.0    0.000000    0.000000    0.000000    0.000000    0.000000   \n",
      "\n",
      "   var33(t-1)  var33(t)  \n",
      "1         0.0       0.0  \n",
      "2         0.0       0.0  \n",
      "3         0.0       0.0  \n",
      "4         0.0       0.0  \n",
      "5         0.0       0.0  \n",
      "\n",
      "[5 rows x 34 columns]\n",
      "(25878, 34)\n",
      "Frequency of unique values of the said array:\n",
      "[[    0     1]\n",
      " [20172   531]]\n",
      "Frequency of unique values of the said array:\n",
      "[[   0    1]\n",
      " [5044  131]]\n",
      "Training X shape:  (20703, 1, 33)\n",
      "Training y shape:  (20703,)\n",
      "Testing X shape:  (5175, 1, 33)\n",
      "Testing y shape:  (5175,)\n"
     ]
    }
   ],
   "source": [
    "reframed = series_to_supervised(scale(df), 1, 1)\n",
    "print(reframed.head())\n",
    "print(reframed.shape)\n",
    "# split into train and test sets\n",
    "values = reframed.values\n",
    "n_train_len = math.ceil(values.shape[0]*0.8)\n",
    "train = values[:n_train_len, :]\n",
    "test = values[n_train_len:, :]\n",
    "# split into input and outputs\n",
    "train_X, train_y = train[:, :-1], train[:, -1]\n",
    "test_X, test_y = test[:, :-1], test[:, -1]\n",
    "def count_unique (variable):\n",
    "    unique_elements, counts_elements = np.unique(variable, return_counts=True)\n",
    "    print(\"Frequency of unique values of the said array:\")\n",
    "    print(np.asarray((unique_elements.astype(int), counts_elements.astype(int))))\n",
    "count_unique(train_y)\n",
    "count_unique(test_y)\n",
    "# reshape input to be 3D [samples, timesteps, features]\n",
    "train_X = train_X.reshape((train_X.shape[0], 1, train_X.shape[1]))\n",
    "test_X = test_X.reshape((test_X.shape[0], 1, test_X.shape[1]))\n",
    "print(\"Training X shape: \", train_X.shape)\n",
    "print(\"Training y shape: \", train_y.shape)\n",
    "print(\"Testing X shape: \", test_X.shape)\n",
    "print(\"Testing y shape: \", test_y.shape)"
   ]
  },
  {
   "cell_type": "code",
   "execution_count": 254,
   "metadata": {},
   "outputs": [
    {
     "name": "stdout",
     "output_type": "stream",
     "text": [
      "Accuracy on the test dataset: 97.91\n"
     ]
    }
   ],
   "source": [
    "# design network\n",
    "model = Sequential()\n",
    "model.add(LSTM(100, input_shape=(train_X.shape[1], train_X.shape[2])))\n",
    "model.add(Dense(20))\n",
    "model.add(Dense(1, activation='sigmoid'))\n",
    "sgd = SGD(lr=0.05)\n",
    "# m = tf.keras.metrics.PrecisionAtRecall(recall=0.6, num_thresholds=200)\n",
    "#cannot maximize precision and recall at the same time\n",
    "model.compile(loss='binary_crossentropy', optimizer=sgd, metrics=['accuracy'])\n",
    "# fit network\n",
    "history = model.fit(train_X, train_y, epochs=15, batch_size=5, verbose=0, shuffle=False)\n",
    "_, accuracy = model.evaluate(test_X, test_y, verbose=0)\n",
    "print('Accuracy on the test dataset: %.2f' % (accuracy*100))"
   ]
  },
  {
   "cell_type": "code",
   "execution_count": 255,
   "metadata": {},
   "outputs": [
    {
     "data": {
      "image/png": "[encoded data removed]",
      "text/plain": [
       "<Figure size 1296x432 with 2 Axes>"
      ]
     },
     "metadata": {
      "needs_background": "light"
     },
     "output_type": "display_data"
    }
   ],
   "source": [
    "fig = plt.figure(figsize=(18,6))\n",
    "ax = fig.add_subplot(1,2,1) \n",
    "ax.plot(history.history['accuracy'])\n",
    "plt.title('model accuracy', fontsize = 20)\n",
    "plt.ylabel('accuracy')\n",
    "plt.xlabel('epoch')\n",
    "ax = fig.add_subplot(1,2,2) \n",
    "ax.plot(history.history['loss'])\n",
    "plt.title('model loss', fontsize = 20)\n",
    "plt.ylabel('loss')\n",
    "plt.xlabel('epoch')\n",
    "plt.show()"
   ]
  },
  {
   "cell_type": "code",
   "execution_count": 256,
   "metadata": {},
   "outputs": [
    {
     "name": "stdout",
     "output_type": "stream",
     "text": [
      "No Skill: ROC AUC=0.500\n",
      "NN: ROC AUC=0.874\n"
     ]
    },
    {
     "data": {
      "image/png": "[encoded data removed]",
      "text/plain": [
       "<Figure size 720x576 with 1 Axes>"
      ]
     },
     "metadata": {
      "needs_background": "light"
     },
     "output_type": "display_data"
    }
   ],
   "source": [
    "y_score = model.predict(test_X)\n",
    "# Compute ROC curve and ROC area for each class\n",
    "fpr, tpr, thresholds = roc_curve(test_y, y_score)\n",
    "# generate a no skill prediction (majority class)\n",
    "ns_probs = [0 for _ in range(len(test_y))]\n",
    "ns_fpr, ns_tpr, _ = roc_curve(test_y, ns_probs)\n",
    "no_skill = len(test_y[test_y==1]) / len(test_y)\n",
    "# roc_auc = auc(fpr, tpr)\n",
    "# calculate scores\n",
    "ns_auc = roc_auc_score(test_y, ns_probs)\n",
    "auc = roc_auc_score(test_y, y_score)\n",
    "# summarize scores\n",
    "print('No Skill: ROC AUC=%.3f' % (ns_auc))\n",
    "print('NN: ROC AUC=%.3f' % (auc))\n",
    "plt.figure(figsize=(10,8))\n",
    "plt.plot(ns_fpr, ns_tpr, linestyle='--', label='No Skill')\n",
    "plt.plot(fpr, tpr, marker='.', label='NN')\n",
    "plt.xlabel('False Positive Rate', fontsize=15)\n",
    "plt.ylabel('True Positive Rate', fontsize=15)\n",
    "plt.title('Receiver operating characteristic example', fontsize=20)\n",
    "plt.legend(loc=\"lower right\")\n",
    "plt.show()"
   ]
  },
  {
   "cell_type": "code",
   "execution_count": 257,
   "metadata": {},
   "outputs": [
    {
     "name": "stdout",
     "output_type": "stream",
     "text": [
      "Recall:  [0.99702617 0.29007634]\n",
      "Precision:  [0.98184303 0.71698113]\n",
      "Fbeta:  [0.98937635 0.41304348]\n",
      "Support:  [5044  131]\n"
     ]
    }
   ],
   "source": [
    "def classify_prediction(y_score):\n",
    "    for i in range(y_score.shape[0]):\n",
    "        if y_score[i] >= 0.5:\n",
    "            y_score[i] = 1\n",
    "        else:\n",
    "            y_score[i] = 0\n",
    "    return y_score\n",
    "def recall_precision(y_score,test_y):\n",
    "    precision, recall, fbeta, support = precision_recall_fscore_support(test_y, \n",
    "                                                                       classify_prediction(y_score), \n",
    "                                                                       pos_label = 1)\n",
    "    print(\"Recall: \", recall)\n",
    "    print(\"Precision: \", precision)\n",
    "    print(\"Fbeta: \", fbeta)\n",
    "    print(\"Support: \", support)\n",
    "    \n",
    "recall_precision(y_score, test_y)    "
   ]
  },
  {
   "cell_type": "markdown",
   "metadata": {},
   "source": [
    "## Work on reduced dataset"
   ]
  },
  {
   "cell_type": "markdown",
   "metadata": {},
   "source": [
    "Not recommend as shown below, there's a lot of information lost which makes the prediction inaccurate"
   ]
  },
  {
   "cell_type": "code",
   "execution_count": 198,
   "metadata": {},
   "outputs": [
    {
     "name": "stdout",
     "output_type": "stream",
     "text": [
      "   var1(t-1)  var2(t-1)  var3(t-1)  var4(t-1)  var5(t-1)  var6(t-1)  \\\n",
      "1   0.521784   0.060953   0.000272   0.004571   0.001803        0.0   \n",
      "2   0.521862   0.091430   0.000060   0.004558   0.001803        0.0   \n",
      "3   0.522789   0.091430   0.000091   0.004670   0.001461        0.0   \n",
      "4   0.522823   0.121907   0.003742   0.004887   0.001714        0.0   \n",
      "5   0.523486   0.121907   0.003893   0.005093   0.001770        0.0   \n",
      "\n",
      "   var7(t-1)  var8(t-1)  var9(t-1)  var10(t-1)  var11(t-1)  var12(t-1)  \\\n",
      "1        0.0   0.000000   0.024096    0.000000    0.000000    0.000906   \n",
      "2        0.0   0.000121   0.058140    0.000135    0.000134    0.001012   \n",
      "3        0.0   0.000000   0.857143    0.000000    0.000080    0.000160   \n",
      "4        0.0   0.003807   0.981818    0.003409    0.003374    0.003517   \n",
      "5        0.0   0.000000   0.000000    0.000000    0.000000    0.000000   \n",
      "\n",
      "   var13(t-1)  var13(t)  \n",
      "1         0.0       0.0  \n",
      "2         0.0       0.0  \n",
      "3         0.0       0.0  \n",
      "4         0.0       0.0  \n",
      "5         0.0       0.0  \n",
      "(25878, 14)\n"
     ]
    }
   ],
   "source": [
    "reframed = series_to_supervised(scale(df1), 1, 1)\n",
    "print(reframed.head())\n",
    "print(reframed.shape)"
   ]
  },
  {
   "cell_type": "code",
   "execution_count": 199,
   "metadata": {},
   "outputs": [
    {
     "name": "stdout",
     "output_type": "stream",
     "text": [
      "Frequency of unique values of the said array:\n",
      "[[    0     1]\n",
      " [20172   531]]\n",
      "Frequency of unique values of the said array:\n",
      "[[   0    1]\n",
      " [5044  131]]\n",
      "(20703, 1, 13) (20703,) (5175, 1, 13) (5175,)\n"
     ]
    }
   ],
   "source": [
    "# split into train and test sets\n",
    "values = reframed.values\n",
    "n_train_len = math.ceil(values.shape[0]*0.8)\n",
    "train = values[:n_train_len, :]\n",
    "test = values[n_train_len:, :]\n",
    "# split into input and outputs\n",
    "train_X, train_y = train[:, :-1], train[:, -1]\n",
    "test_X, test_y = test[:, :-1], test[:, -1]\n",
    "def count_unique (variable):\n",
    "    unique_elements, counts_elements = np.unique(variable, return_counts=True)\n",
    "    print(\"Frequency of unique values of the said array:\")\n",
    "    print(np.asarray((unique_elements.astype(int), counts_elements.astype(int))))\n",
    "count_unique(train_y)\n",
    "count_unique(test_y)\n",
    "# reshape input to be 3D [samples, timesteps, features]\n",
    "train_X = train_X.reshape((train_X.shape[0], 1, train_X.shape[1]))\n",
    "test_X = test_X.reshape((test_X.shape[0], 1, test_X.shape[1]))\n",
    "print(train_X.shape, train_y.shape, test_X.shape, test_y.shape)"
   ]
  },
  {
   "cell_type": "code",
   "execution_count": 200,
   "metadata": {},
   "outputs": [
    {
     "name": "stdout",
     "output_type": "stream",
     "text": [
      "Accuracy on the test dataset: 97.93\n"
     ]
    }
   ],
   "source": [
    "# design network\n",
    "model = Sequential()\n",
    "model.add(LSTM(100, input_shape=(train_X.shape[1], train_X.shape[2])))\n",
    "model.add(Dense(20))\n",
    "model.add(Dense(1, activation='sigmoid'))\n",
    "sgd = SGD(lr=0.05)\n",
    "model.compile(loss='binary_crossentropy', optimizer=sgd, metrics=['accuracy'])\n",
    "# fit network\n",
    "history = model.fit(train_X, train_y, epochs=15, batch_size=5, verbose=0, shuffle=False)\n",
    "_, accuracy = model.evaluate(test_X, test_y, verbose=0)\n",
    "print('Accuracy on the test dataset: %.2f' % (accuracy*100))"
   ]
  },
  {
   "cell_type": "code",
   "execution_count": 201,
   "metadata": {},
   "outputs": [
    {
     "data": {
      "image/png": "[encoded data removed]",
      "text/plain": [
       "<Figure size 1296x432 with 2 Axes>"
      ]
     },
     "metadata": {
      "needs_background": "light"
     },
     "output_type": "display_data"
    }
   ],
   "source": [
    "fig = plt.figure(figsize=(18,6))\n",
    "ax = fig.add_subplot(1,2,1) \n",
    "ax.plot(history.history['accuracy'])\n",
    "plt.title('model accuracy', fontsize = 20)\n",
    "plt.ylabel('accuracy')\n",
    "plt.xlabel('epoch')\n",
    "#plt.legend(['train with 100 PCs', 'train with 50 PCs'], loc='upper left')\n",
    "ax = fig.add_subplot(1,2,2) \n",
    "ax.plot(history.history['loss'])\n",
    "plt.title('model loss', fontsize = 20)\n",
    "plt.ylabel('loss')\n",
    "plt.xlabel('epoch')\n",
    "#plt.legend(['train with 100 PCs', 'train with 50 PCs'], loc='upper right')\n",
    "plt.show()"
   ]
  },
  {
   "cell_type": "code",
   "execution_count": 202,
   "metadata": {},
   "outputs": [
    {
     "name": "stdout",
     "output_type": "stream",
     "text": [
      "No Skill: ROC AUC=0.500\n",
      "NN: ROC AUC=0.907\n"
     ]
    },
    {
     "data": {
      "image/png": "[encoded data removed]",
      "text/plain": [
       "<Figure size 720x576 with 1 Axes>"
      ]
     },
     "metadata": {
      "needs_background": "light"
     },
     "output_type": "display_data"
    }
   ],
   "source": [
    "y_score = model.predict(test_X)\n",
    "# Compute ROC curve and ROC area for each class\n",
    "fpr = dict()\n",
    "tpr = dict()\n",
    "roc_auc = dict()\n",
    "fpr, tpr, _ = roc_curve(test_y, y_score)\n",
    "# generate a no skill prediction (majority class)\n",
    "ns_probs = [0 for _ in range(len(test_y))]\n",
    "ns_fpr, ns_tpr, _ = roc_curve(test_y, ns_probs)\n",
    "roc_auc = auc(fpr, tpr)\n",
    "# calculate scores\n",
    "ns_auc = roc_auc_score(test_y, ns_probs)\n",
    "auc = roc_auc_score(test_y, y_score)\n",
    "# summarize scores\n",
    "print('No Skill: ROC AUC=%.3f' % (ns_auc))\n",
    "print('NN: ROC AUC=%.3f' % (auc))\n",
    "plt.figure(figsize=(10,8))\n",
    "plt.plot(ns_fpr, ns_tpr, linestyle='--', label='No Skill')\n",
    "plt.plot(fpr, tpr, marker='.', label='NN')\n",
    "plt.xlabel('False Positive Rate', fontsize=15)\n",
    "plt.ylabel('True Positive Rate', fontsize=15)\n",
    "plt.title('Receiver operating characteristic example', fontsize=20)\n",
    "plt.legend(loc=\"lower right\")\n",
    "plt.show()"
   ]
  },
  {
   "cell_type": "code",
   "execution_count": 206,
   "metadata": {},
   "outputs": [
    {
     "name": "stdout",
     "output_type": "stream",
     "text": [
      "[0.98506583 0.63953488] [0.99385408 0.41984733] [0.98944044 0.50691244] [5044  131]\n"
     ]
    }
   ],
   "source": [
    "recall_precision(y_score, test_y)    "
   ]
  }
 ],
 "metadata": {
  "kernelspec": {
   "display_name": "Python 3",
   "language": "python",
   "name": "python3"
  },
  "language_info": {
   "codemirror_mode": {
    "name": "ipython",
    "version": 3
   },
   "file_extension": ".py",
   "mimetype": "text/x-python",
   "name": "python",
   "nbconvert_exporter": "python",
   "pygments_lexer": "ipython3",
   "version": "3.7.7"
  }
 },
 "nbformat": 4,
 "nbformat_minor": 4
}
